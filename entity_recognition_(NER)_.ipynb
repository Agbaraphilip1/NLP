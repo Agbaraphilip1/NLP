{
  "nbformat": 4,
  "nbformat_minor": 0,
  "metadata": {
    "colab": {
      "provenance": []
    },
    "kernelspec": {
      "name": "python3",
      "display_name": "Python 3"
    },
    "language_info": {
      "name": "python"
    }
  },
  "cells": [
    {
      "cell_type": "code",
      "execution_count": null,
      "metadata": {
        "id": "3jN9ImH66jMh"
      },
      "outputs": [],
      "source": [
        "import spacy\n",
        "\n",
        "def perform_ner(text):\n",
        "    # Load the English NLP model from spaCy\n",
        "    nlp = spacy.load(\"en_core_web_sm\")\n",
        "\n",
        "    # Process the input text using spaCy NLP pipeline\n",
        "    doc = nlp(text)\n",
        "\n",
        "    # Extract named entities and their types\n",
        "    entities = []\n",
        "    for ent in doc.ents:\n",
        "        entities.append({\n",
        "            \"text\": ent.text,\n",
        "            \"start_pos\": ent.start_char,\n",
        "            \"end_pos\": ent.end_char,\n",
        "            \"label\": ent.label_\n",
        "        })\n",
        "\n",
        "    return entities\n",
        "\n",
        "if __name__ == \"__main__\":\n",
        "    # Example text for named entity recognition\n",
        "    example_text = \"Apple Inc. was founded by Steve Jobs, Steve Wozniak, and Ronald Wayne. It is headquartered in Cupertino, California.\"\n",
        "\n",
        "    # Perform named entity recognition\n",
        "    named_entities = perform_ner(example_text)\n",
        "\n",
        "    # Print the results\n",
        "    print(\"Named Entities:\")\n",
        "    for entity in named_entities:\n",
        "        print(f\"Text: {entity['text']}, Type: {entity['label']}, Start: {entity['start_pos']}, End: {entity['end_pos']}\")\n"
      ]
    }
  ]
}